{
 "cells": [
  {
   "cell_type": "code",
   "execution_count": 122,
   "metadata": {},
   "outputs": [],
   "source": [
    "import networkx as nx\n",
    "import matplotlib.pyplot as plt\n",
    "import itertools\n",
    "import csv\n",
    "\n",
    "G=nx.Graph()\n",
    "\n",
    "with open(\"casts.csv\", \"r\") as file:\n",
    "    line = file.readline()\n",
    "    reader = csv.reader(file, delimiter=';', quotechar='\"')\n",
    "\n",
    "    actors = []\n",
    "    last_title = \"\"\n",
    "    cnt = 0\n",
    "    for (id, title, actor, _, _) in reader:\n",
    "        if last_title == title:\n",
    "            # filter out this weird actor name - probably some placeholder\n",
    "            if actor != \"s a\":\n",
    "                actors.append(actor)\n",
    "        else:\n",
    "            # generate all unordered pairs of distinct actors of the list\n",
    "            for a, b in itertools.combinations(actors, 2):\n",
    "                G.add_edge(a, b)\n",
    "            \n",
    "            last_title = title\n",
    "            actors = []\n",
    "        # cnt += 1\n",
    "        if cnt > 1000:\n",
    "            break\n"
   ]
  },
  {
   "attachments": {},
   "cell_type": "markdown",
   "metadata": {},
   "source": [
    "## Basic statistics"
   ]
  },
  {
   "cell_type": "code",
   "execution_count": 109,
   "metadata": {},
   "outputs": [
    {
     "name": "stdout",
     "output_type": "stream",
     "text": [
      "Number of nodes 14559\n",
      "Number of edges 100583\n",
      "Number of components 500\n",
      "Density 0.0009491204247765658\n",
      "Degreese of top 10 nodes descending\n",
      "[280, 238, 237, 206, 202, 193, 193, 188, 187, 181]\n"
     ]
    }
   ],
   "source": [
    "\n",
    "def show_basic_statisctis(G):\n",
    "    print(f\"Number of nodes {G.number_of_nodes()}\")\n",
    "    print(f\"Number of edges {G.number_of_edges()}\")\n",
    "    print(f\"Number of components {len(list(nx.connected_components(G)))}\")\n",
    "    print(f\"Density {nx.density(G)}\")\n",
    "    print(\"Degreese of top 10 nodes descending\")\n",
    "    print(sorted([d for n, d in G.degree()], reverse=True)[0:10])\n",
    "\n",
    "show_basic_statisctis(G)"
   ]
  },
  {
   "attachments": {},
   "cell_type": "markdown",
   "metadata": {},
   "source": [
    "## Key players"
   ]
  },
  {
   "cell_type": "code",
   "execution_count": 136,
   "metadata": {},
   "outputs": [
    {
     "name": "stdout",
     "output_type": "stream",
     "text": [
      "Top 10 by deegree centrality\n"
     ]
    },
    {
     "data": {
      "text/plain": [
       "[('John Carradine', 0.019233411182854786),\n",
       " ('Peter Lorre', 0.016348399505426568),\n",
       " ('John Gielgud', 0.016279708751202087),\n",
       " ('C.Aubrey Smith', 0.014150295370243164),\n",
       " ('Keenan Wynn', 0.01387553235334524),\n",
       " ('Donald Crisp', 0.013257315565324907),\n",
       " ('Roddy McDowall', 0.013257315565324907),\n",
       " ('Gene Hackman', 0.0129138617942025),\n",
       " ('Henry Fonda', 0.012845171039978018),\n",
       " ('Nigel Bruce', 0.01243302651463113)]"
      ]
     },
     "metadata": {},
     "output_type": "display_data"
    },
    {
     "name": "stdout",
     "output_type": "stream",
     "text": [
      "Top 10 by eigenvector centrality\n"
     ]
    },
    {
     "data": {
      "text/plain": [
       "[('John Carradine', 0.14012189493551971),\n",
       " ('Peter Lorre', 0.12344123261460202),\n",
       " ('Charles Coburn', 0.10856157975422713),\n",
       " ('Melville Cooper', 0.10474971026704472),\n",
       " ('Andy Devine', 0.10305110807715678),\n",
       " ('Cesar Romero', 0.10292316894437711),\n",
       " ('C.Aubrey Smith', 0.10169399218743094),\n",
       " ('Alan Mowbray', 0.09891957461532914),\n",
       " ('Cedric Hardwicke', 0.0970704225690444),\n",
       " ('Donald Crisp', 0.09398524874851667)]"
      ]
     },
     "metadata": {},
     "output_type": "display_data"
    },
    {
     "name": "stdout",
     "output_type": "stream",
     "text": [
      "Top 10 by closeness centrality\n"
     ]
    },
    {
     "data": {
      "text/plain": [
       "[('John Gielgud', 0.31535390123563517),\n",
       " ('John Carradine', 0.31432156032829994),\n",
       " ('Roddy McDowall', 0.311615692499626),\n",
       " ('Martin Balsam', 0.30557298030082264),\n",
       " ('Vincent Price', 0.30355083626507434),\n",
       " ('Eli Wallach', 0.30348578907652485),\n",
       " ('Keenan Wynn', 0.3030312381607933),\n",
       " ('George Kennedy', 0.3029664134447656),\n",
       " ('James Mason', 0.3029421113260401),\n",
       " ('David Niven', 0.3023035556870221)]"
      ]
     },
     "metadata": {},
     "output_type": "display_data"
    }
   ],
   "source": [
    "def top_10(data: dict):\n",
    "    return sorted(data.items(), key=lambda x:x[1], reverse=True)[0:10]\n",
    "\n",
    "by_degree = nx.degree_centrality(G)\n",
    "print(\"Top 10 by deegree centrality\")\n",
    "display(top_10(by_degree))\n",
    "nx.set_node_attributes(G, by_degree, \"degree_centrality\")\n",
    "\n",
    "by_eigenvector = nx.eigenvector_centrality(G)\n",
    "print(\"Top 10 by eigenvector centrality\")\n",
    "display(top_10(by_eigenvector))\n",
    "nx.set_node_attributes(G, by_eigenvector, \"eigenvector_centrality\")\n",
    "\n",
    "by_closeness = nx.closeness_centrality(G)\n",
    "print(\"Top 10 by closeness centrality\")\n",
    "display(top_10(by_closeness))\n",
    "nx.set_node_attributes(G, by_closeness, \"closeness_centrality\")"
   ]
  },
  {
   "attachments": {},
   "cell_type": "markdown",
   "metadata": {},
   "source": [
    "### Selecting John Carradine as key player -> compute shortest path to all nodes\n",
    "Kevin Bacon himself has a Bacon number of 0.\n",
    "Those actors who have worked directly with Kevin Bacon have a Bacon number of 1.\n",
    "If the lowest Bacon number of any actor with whom X has appeared in any movie is N, X's Bacon number is N+1."
   ]
  },
  {
   "cell_type": "code",
   "execution_count": 137,
   "metadata": {},
   "outputs": [
    {
     "name": "stdout",
     "output_type": "stream",
     "text": [
      "Average distance from key player 'John Carradine' is 2.806\n",
      "Max distance from key player 'John Carradine' is 8.000\n"
     ]
    }
   ],
   "source": [
    "paths = nx.shortest_path(G, 'John Carradine')\n",
    "\n",
    "# -1 is removing 'Jogn Carradine' node, so numbering will start from 0\n",
    "kevin_bacon_numbers = {k: len(v) - 1 for k, v in paths.items()}\n",
    "nx.set_node_attributes(G, kevin_bacon_numbers, \"kevin_bacon_number\")\n",
    "\n",
    "avg_distance = sum(v for v in kevin_bacon_numbers.values()) / len(paths.keys())\n",
    "max_distance = max(v for v in kevin_bacon_numbers.values())\n",
    "\n",
    "print(\"Average distance from key player 'John Carradine' is %.3f\" % avg_distance)\n",
    "print(\"Max distance from key player 'John Carradine' is %.3f\" % max_distance)"
   ]
  },
  {
   "attachments": {},
   "cell_type": "markdown",
   "metadata": {},
   "source": [
    "## Communities"
   ]
  },
  {
   "cell_type": "code",
   "execution_count": 140,
   "metadata": {},
   "outputs": [
    {
     "name": "stdout",
     "output_type": "stream",
     "text": [
      "Number of communities 558\n"
     ]
    }
   ],
   "source": [
    "def set_node_community(G, communities):\n",
    "    '''Add community to node attributes'''\n",
    "    for c, v_c in enumerate(communities):\n",
    "        for v in v_c:\n",
    "            # Add 1 to save 0 for external edges\n",
    "            G.nodes[v]['community'] = c + 1\n",
    "\n",
    "comunities = nx.community.louvain_communities(G)\n",
    "print(f\"Number of communities {len(comunities)}\")"
   ]
  },
  {
   "cell_type": "code",
   "execution_count": 142,
   "metadata": {},
   "outputs": [],
   "source": [
    "set_node_community(G, comunities)"
   ]
  },
  {
   "cell_type": "code",
   "execution_count": 143,
   "metadata": {},
   "outputs": [
    {
     "name": "stdout",
     "output_type": "stream",
     "text": [
      "[2718, 2473, 2051, 1176, 525, 408, 304, 254, 246, 233]\n",
      "\n",
      "community 0\n",
      "Number of nodes 2718\n",
      "Number of edges 13502\n",
      "Number of components 1\n",
      "Density 0.003656697278168174\n",
      "Degreese of top 10 nodes descending\n",
      "[116, 83, 80, 73, 73, 70, 62, 62, 62, 62]\n",
      "central node (closeness) ('Gene Hackman', 0.37872874268190687)\n",
      "\n",
      "community 1\n",
      "Number of nodes 2473\n",
      "Number of edges 25066\n",
      "Number of components 1\n",
      "Density 0.008200539941399477\n",
      "Degreese of top 10 nodes descending\n",
      "[184, 168, 168, 162, 161, 157, 153, 152, 150, 149]\n",
      "central node (closeness) ('C.Aubrey Smith', 0.46196972528499347)\n",
      "\n",
      "community 2\n",
      "Number of nodes 2051\n",
      "Number of edges 12271\n",
      "Number of components 1\n",
      "Density 0.005837009905935237\n",
      "Degreese of top 10 nodes descending\n",
      "[137, 120, 109, 107, 103, 97, 95, 93, 93, 84]\n",
      "central node (closeness) ('John Gielgud', 0.4104925911093312)\n",
      "\n",
      "community 3\n",
      "Number of nodes 1176\n",
      "Number of edges 5087\n",
      "Number of components 1\n",
      "Density 0.007362860037632074\n",
      "Degreese of top 10 nodes descending\n",
      "[88, 84, 67, 59, 56, 55, 55, 53, 52, 52]\n",
      "central node (closeness) ('Roddy McDowall', 0.3928452022734871)\n",
      "\n",
      "community 4\n",
      "Number of nodes 525\n",
      "Number of edges 1545\n",
      "Number of components 1\n",
      "Density 0.011232279171210469\n",
      "Degreese of top 10 nodes descending\n",
      "[41, 28, 28, 26, 24, 19, 19, 19, 18, 17]\n",
      "central node (closeness) ('Claudia Cardinale', 0.27080103359173124)\n",
      "\n",
      "community 5\n",
      "Number of nodes 408\n",
      "Number of edges 1693\n",
      "Number of components 2\n",
      "Density 0.020390711567182154\n",
      "Degreese of top 10 nodes descending\n",
      "[41, 40, 39, 37, 34, 33, 32, 31, 30, 26]\n",
      "central node (closeness) ('Dennis Hopper', 0.37771362532356795)\n",
      "\n",
      "community 6\n",
      "Number of nodes 304\n",
      "Number of edges 1013\n",
      "Number of components 1\n",
      "Density 0.021994962654160153\n",
      "Degreese of top 10 nodes descending\n",
      "[28, 27, 27, 26, 26, 25, 24, 23, 23, 22]\n",
      "central node (closeness) ('John Schuck', 0.3340683572216097)\n",
      "\n",
      "community 7\n",
      "Number of nodes 254\n",
      "Number of edges 1105\n",
      "Number of components 1\n",
      "Density 0.03439046403784507\n",
      "Degreese of top 10 nodes descending\n",
      "[59, 33, 33, 29, 29, 29, 29, 28, 28, 28]\n",
      "central node (closeness) ('Hal Holbrook', 0.3640287769784173)\n",
      "\n",
      "community 8\n",
      "Number of nodes 246\n",
      "Number of edges 993\n",
      "Number of components 1\n",
      "Density 0.032951717272274764\n",
      "Degreese of top 10 nodes descending\n",
      "[47, 45, 44, 27, 27, 23, 23, 22, 20, 20]\n",
      "central node (closeness) ('Emma Thompson', 0.38950715421303655)\n",
      "\n",
      "community 9\n",
      "Number of nodes 233\n",
      "Number of edges 709\n",
      "Number of components 1\n",
      "Density 0.026232055645996743\n",
      "Degreese of top 10 nodes descending\n",
      "[27, 21, 20, 19, 19, 18, 18, 17, 16, 15]\n",
      "central node (closeness) ('Roman Polanski', 0.2970550576184379)\n"
     ]
    }
   ],
   "source": [
    "top_10_communities = sorted(comunities, key=len, reverse=True)[0:10]\n",
    "print(list(map(len, top_10_communities)))\n",
    "\n",
    "for index, cluster in  enumerate(top_10_communities):\n",
    "    sub = G.subgraph(cluster)\n",
    "\n",
    "    print(f\"\\ncommunity {index}\")\n",
    "    show_basic_statisctis(sub)\n",
    "    print(f\"central node (closeness) {top_10(nx.closeness_centrality(sub))[0]}\")\n"
   ]
  },
  {
   "attachments": {},
   "cell_type": "markdown",
   "metadata": {},
   "source": [
    "## Graph embedding via Node2Vec"
   ]
  },
  {
   "cell_type": "code",
   "execution_count": 144,
   "metadata": {},
   "outputs": [
    {
     "name": "stderr",
     "output_type": "stream",
     "text": [
      "/Users/martas/projects/Python/NI-DDW tutorial3/venv/lib/python3.9/site-packages/tqdm/auto.py:21: TqdmWarning: IProgress not found. Please update jupyter and ipywidgets. See https://ipywidgets.readthedocs.io/en/stable/user_install.html\n",
      "  from .autonotebook import tqdm as notebook_tqdm\n",
      "Computing transition probabilities: 100%|██████████| 14559/14559 [00:14<00:00, 1002.45it/s]\n",
      "Generating walks (CPU: 1): 100%|██████████| 50/50 [01:49<00:00,  2.18s/it]\n",
      "Generating walks (CPU: 2): 100%|██████████| 50/50 [01:49<00:00,  2.19s/it]\n",
      "Generating walks (CPU: 3): 100%|██████████| 50/50 [01:49<00:00,  2.20s/it]\n",
      "Generating walks (CPU: 4): 100%|██████████| 50/50 [01:49<00:00,  2.19s/it]\n"
     ]
    }
   ],
   "source": [
    "from node2vec import Node2Vec\n",
    "\n",
    "node2vec = Node2Vec(G, dimensions=64, walk_length=30, num_walks=200, workers=4)    "
   ]
  },
  {
   "cell_type": "code",
   "execution_count": 145,
   "metadata": {},
   "outputs": [],
   "source": [
    "model = node2vec.fit(window=10, min_count=1, batch_words=4)"
   ]
  },
  {
   "cell_type": "code",
   "execution_count": 147,
   "metadata": {},
   "outputs": [
    {
     "name": "stdout",
     "output_type": "stream",
     "text": [
      "Vector of node 'John Carradine' [-0.02122113 -0.29640362  0.22750922  0.5471066  -0.01618227 -0.43485287\n",
      "  0.35025233 -0.01230265 -0.12248736 -0.13625246  0.61877763  0.12820089\n",
      " -0.2858444   0.11370414 -0.7182455  -0.09273803 -0.5950972  -0.4171952\n",
      "  0.214904   -0.17596856  0.4818026   0.06645505  0.06901837 -0.27098203\n",
      "  0.31148535  0.27003655 -0.24042128  0.22632678 -0.31773508  0.35013816\n",
      "  0.10953279  0.14329486  0.24566452  0.05028889  0.20779523  0.13127758\n",
      " -0.29407993 -0.38837627 -0.27409095 -0.44431257 -0.18789251  0.09891602\n",
      " -0.45789638 -0.3442441  -0.29954085  0.05997973  0.23920557  0.19226189\n",
      "  0.38398302  0.13556537  0.29407045  0.00838947  0.20632793  0.08984934\n",
      "  0.2727436  -0.23510346 -0.13078472 -0.41867715  0.10288879  0.37251016\n",
      "  0.07643957  0.04116416  0.32274228  0.2961248 ]\n",
      "Simillar nodes to John Carradine\n"
     ]
    },
    {
     "data": {
      "text/plain": [
       "[('Ken Maynard', 0.7947187423706055),\n",
       " ('Lindsay Crosby', 0.78844153881073),\n",
       " ('Joy Wilkerson', 0.7865317463874817),\n",
       " ('Jane Adams', 0.7804097533226013),\n",
       " ('Glen Strange', 0.7696922421455383),\n",
       " ('Kathleen Cworlwy', 0.7533718943595886),\n",
       " ('Ron Randall', 0.749137282371521),\n",
       " ('Russel Simpson', 0.7265650629997253),\n",
       " ('Mijanou Bardot', 0.7198164463043213),\n",
       " ('Marty Milner', 0.7157458066940308)]"
      ]
     },
     "execution_count": 147,
     "metadata": {},
     "output_type": "execute_result"
    }
   ],
   "source": [
    "print(f\"Vector of node 'John Carradine' {model.wv.get_vector('John Carradine')}\")\n",
    "print(f\"Simillar nodes to John Carradine\")\n",
    "model.wv.most_similar('John Carradine')"
   ]
  },
  {
   "cell_type": "code",
   "execution_count": null,
   "metadata": {},
   "outputs": [],
   "source": []
  },
  {
   "attachments": {},
   "cell_type": "markdown",
   "metadata": {},
   "source": [
    "### Compare calculated values for key players (John Carradine as top) with simillar nodes via Node2Vec simillarity\n",
    "Wanted to see possible correlation between classic computation methods and Model\n",
    "Interesting thing just by looking at first X similar nodes - they share the exact same calculated values from centrality methods"
   ]
  },
  {
   "cell_type": "code",
   "execution_count": 154,
   "metadata": {},
   "outputs": [
    {
     "name": "stdout",
     "output_type": "stream",
     "text": [
      "Ken Maynard\n",
      "by_degree value 0.0003434537711224069\n",
      "by_closeness value 0.23221091497774024\n",
      "by eigenvector 0.0025402977555249017\n",
      "Lindsay Crosby\n",
      "by_degree value 0.0003434537711224069\n",
      "by_closeness value 0.23221091497774024\n",
      "by eigenvector 0.0025402977555249017\n",
      "Joy Wilkerson\n",
      "by_degree value 0.0003434537711224069\n",
      "by_closeness value 0.23221091497774024\n",
      "by eigenvector 0.0025402977555249017\n"
     ]
    }
   ],
   "source": [
    "for k, v in model.wv.most_similar('John Carradine')[0:3]:\n",
    "    print(k)\n",
    "    print(f'by_degree value {by_degree[k]}')\n",
    "    print(f'by_closeness value {by_closeness[k]}')\n",
    "    print(f'by eigenvector {by_eigenvector[k]}')"
   ]
  },
  {
   "attachments": {},
   "cell_type": "markdown",
   "metadata": {},
   "source": [
    "### Visualise vector space of Node2Vec model"
   ]
  },
  {
   "cell_type": "code",
   "execution_count": 157,
   "metadata": {},
   "outputs": [
    {
     "data": {
      "image/png": "[encoded data removed]",
      "text/plain": [
       "<Figure size 1500x700 with 1 Axes>"
      ]
     },
     "metadata": {},
     "output_type": "display_data"
    }
   ],
   "source": [
    "#visualize\n",
    "from sklearn.decomposition import PCA\n",
    "\n",
    "pca=PCA(n_components=2)\n",
    "pca_comps=pca.fit_transform(model.wv.vectors)\n",
    "plt.figure(figsize=(15,7))\n",
    "plt.scatter(pca_comps[:,0],pca_comps[:,1],c='blue')\n",
    "plt.show()"
   ]
  },
  {
   "cell_type": "code",
   "execution_count": 158,
   "metadata": {},
   "outputs": [],
   "source": [
    "nx.write_gexf(G, \"final.gexf\")"
   ]
  },
  {
   "attachments": {},
   "cell_type": "markdown",
   "metadata": {},
   "source": [
    "# I tried Gephi Tool as well\n"
   ]
  },
  {
   "attachments": {},
   "cell_type": "markdown",
   "metadata": {},
   "source": [
    "![alt text](by_numbers.png \"Title\")"
   ]
  },
  {
   "attachments": {},
   "cell_type": "markdown",
   "metadata": {},
   "source": [
    "![alt text](communities.png \"Title\")"
   ]
  },
  {
   "cell_type": "markdown",
   "metadata": {},
   "source": []
  }
 ],
 "metadata": {
  "kernelspec": {
   "display_name": "venv",
   "language": "python",
   "name": "python3"
  },
  "language_info": {
   "codemirror_mode": {
    "name": "ipython",
    "version": 3
   },
   "file_extension": ".py",
   "mimetype": "text/x-python",
   "name": "python",
   "nbconvert_exporter": "python",
   "pygments_lexer": "ipython3",
   "version": "3.9.6"
  },
  "orig_nbformat": 4
 },
 "nbformat": 4,
 "nbformat_minor": 2
}
