{
 "cells": [
  {
   "cell_type": "markdown",
   "metadata": {},
   "source": [
    "# Markovské řetězce s diskrétním časem"
   ]
  },
  {
   "cell_type": "code",
   "execution_count": 1,
   "metadata": {},
   "outputs": [],
   "source": [
    "import numpy as np\n",
    "import scipy.linalg as la"
   ]
  },
  {
   "cell_type": "markdown",
   "metadata": {},
   "source": [
    "## Příklad 7.1"
   ]
  },
  {
   "cell_type": "code",
   "execution_count": 2,
   "metadata": {},
   "outputs": [],
   "source": [
    "a = 1/5\n",
    "b = 3/4"
   ]
  },
  {
   "cell_type": "code",
   "execution_count": 3,
   "metadata": {},
   "outputs": [
    {
     "name": "stdout",
     "output_type": "stream",
     "text": [
      "P =\n",
      " [[0.8  0.2 ]\n",
      " [0.75 0.25]]\n"
     ]
    }
   ],
   "source": [
    "# matice přechodu\n",
    "P = np.matrix([[1-a,a],[b,1-b]])\n",
    "print(\"P =\\n\", P)"
   ]
  },
  {
   "cell_type": "code",
   "execution_count": 4,
   "metadata": {},
   "outputs": [
    {
     "name": "stdout",
     "output_type": "stream",
     "text": [
      "[[1.]\n",
      " [1.]]\n"
     ]
    }
   ],
   "source": [
    "print(np.sum(P,axis = 1))"
   ]
  },
  {
   "cell_type": "code",
   "execution_count": 5,
   "metadata": {},
   "outputs": [
    {
     "name": "stdout",
     "output_type": "stream",
     "text": [
      "P^2 = \n",
      " [[0.79   0.21  ]\n",
      " [0.7875 0.2125]]\n",
      "[[1.]\n",
      " [1.]]\n"
     ]
    }
   ],
   "source": [
    "# dvoukroková matice přechodu\n",
    "print(\"P^2 = \\n\", P**2 )\n",
    "print(np.sum(P**2,axis = 1))"
   ]
  },
  {
   "cell_type": "code",
   "execution_count": 6,
   "metadata": {},
   "outputs": [
    {
     "name": "stdout",
     "output_type": "stream",
     "text": [
      "p(0) = [[0 1]]\n"
     ]
    }
   ],
   "source": [
    "# počáteční rozdělení\n",
    "p0 = np.matrix([0,1])\n",
    "print(\"p(0) =\", p0)"
   ]
  },
  {
   "cell_type": "code",
   "execution_count": 7,
   "metadata": {},
   "outputs": [
    {
     "name": "stdout",
     "output_type": "stream",
     "text": [
      "p(n) = [[0.78947368 0.21052632]]\n"
     ]
    }
   ],
   "source": [
    "# rozdělení v čase n\n",
    "n = 100\n",
    "pn = p0 * P**n\n",
    "print(\"p(n) =\",pn)"
   ]
  },
  {
   "cell_type": "code",
   "execution_count": 8,
   "metadata": {},
   "outputs": [
    {
     "data": {
      "text/plain": [
       "(0.7894736842105263, 0.21052631578947367)"
      ]
     },
     "execution_count": 8,
     "metadata": {},
     "output_type": "execute_result"
    }
   ],
   "source": [
    "(15/19, 4/19)"
   ]
  },
  {
   "cell_type": "code",
   "execution_count": 9,
   "metadata": {},
   "outputs": [
    {
     "name": "stdout",
     "output_type": "stream",
     "text": [
      "pi = [[0.78947368 0.21052632]]\n"
     ]
    }
   ],
   "source": [
    "# stacionární rozdělení\n",
    "W = np.transpose(P-np.eye(P.shape[0])) \n",
    "pi = la.null_space(W)\n",
    "pi = np.transpose(pi/sum(pi)) # normalizace\n",
    "print(\"pi =\",pi)"
   ]
  },
  {
   "cell_type": "code",
   "execution_count": 10,
   "metadata": {},
   "outputs": [
    {
     "data": {
      "text/plain": [
       "matrix([[0.78947368, 0.21052632]])"
      ]
     },
     "execution_count": 10,
     "metadata": {},
     "output_type": "execute_result"
    }
   ],
   "source": [
    "pi*P"
   ]
  },
  {
   "cell_type": "code",
   "execution_count": 11,
   "metadata": {},
   "outputs": [
    {
     "name": "stdout",
     "output_type": "stream",
     "text": [
      "[1.   0.05]\n"
     ]
    }
   ],
   "source": [
    "# pomocí vlastních čísel\n",
    "D = np.transpose(P)\n",
    "vl_cis, vl_vec = np.linalg.eig(D)\n",
    "print(vl_cis)"
   ]
  },
  {
   "cell_type": "code",
   "execution_count": 12,
   "metadata": {},
   "outputs": [
    {
     "name": "stdout",
     "output_type": "stream",
     "text": [
      "[[0.78947368 0.21052632]]\n"
     ]
    }
   ],
   "source": [
    "pi = vl_vec[:,0]\n",
    "pi = pi/np.sum(pi)\n",
    "pi = np.transpose(pi)\n",
    "print(pi)"
   ]
  },
  {
   "cell_type": "code",
   "execution_count": 14,
   "metadata": {},
   "outputs": [],
   "source": [
    "def StacDist(P):\n",
    "    W = np.transpose(P-np.eye(P.shape[0])) \n",
    "    pi = la.null_space(W)\n",
    "    pi = np.transpose(pi/sum(pi))\n",
    "    return pi"
   ]
  },
  {
   "cell_type": "code",
   "execution_count": 15,
   "metadata": {},
   "outputs": [
    {
     "name": "stdout",
     "output_type": "stream",
     "text": [
      "pi = [[0.78947368 0.21052632]]\n"
     ]
    }
   ],
   "source": [
    "pi = StacDist(P)\n",
    "print(\"pi =\",pi)"
   ]
  },
  {
   "cell_type": "markdown",
   "metadata": {},
   "source": [
    "## Příklad 7.2"
   ]
  },
  {
   "cell_type": "code",
   "execution_count": 16,
   "metadata": {},
   "outputs": [
    {
     "name": "stdout",
     "output_type": "stream",
     "text": [
      "P = \n",
      " [[0.1 0.2 0.4 0.3]\n",
      " [0.1 0.2 0.4 0.3]\n",
      " [0.3 0.4 0.3 0. ]\n",
      " [0.1 0.2 0.4 0.3]]\n",
      "pi = [[0.17272727 0.27272727 0.36363636 0.19090909]]\n"
     ]
    }
   ],
   "source": [
    "P = np.matrix([[0.1, 0.2, 0.4, 0.3],\n",
    "               [0.1, 0.2, 0.4, 0.3],\n",
    "               [0.3, 0.4, 0.3, 0],\n",
    "               [0.1, 0.2, 0.4, 0.3]])\n",
    "print(\"P = \\n\", P)\n",
    "pi = StacDist(P)\n",
    "print(\"pi =\",pi)"
   ]
  },
  {
   "cell_type": "markdown",
   "metadata": {},
   "source": [
    "# pokusy"
   ]
  },
  {
   "cell_type": "code",
   "execution_count": 3,
   "metadata": {},
   "outputs": [
    {
     "name": "stdout",
     "output_type": "stream",
     "text": [
      "P = \n",
      " [[0.25 0.5  0.25]\n",
      " [0.45 0.5  0.05]\n",
      " [0.   0.9  0.1 ]]\n",
      "pi = [[0.32926829 0.54878049 0.12195122]]\n"
     ]
    }
   ],
   "source": [
    "P = np.matrix([[0.25, 0.50, 0.25],\n",
    "               [0.45, 0.50, 0.05],\n",
    "               [0.00, 0.90, 0.10]])\n",
    "print(\"P = \\n\", P)\n",
    "pi = StacDist(P)\n",
    "print(\"pi =\",pi)"
   ]
  },
  {
   "cell_type": "code",
   "execution_count": 4,
   "metadata": {},
   "outputs": [
    {
     "data": {
      "text/plain": [
       "array([[27., 45., 10.]])"
      ]
     },
     "execution_count": 4,
     "metadata": {},
     "output_type": "execute_result"
    }
   ],
   "source": [
    "pi*82"
   ]
  },
  {
   "cell_type": "code",
   "execution_count": null,
   "metadata": {},
   "outputs": [],
   "source": []
  }
 ],
 "metadata": {
  "interpreter": {
   "hash": "b0fa6594d8f4cbf19f97940f81e996739fb7646882a419484c72d19e05852a7e"
  },
  "kernelspec": {
   "display_name": "Python 3.9.12 64-bit",
   "language": "python",
   "name": "python3"
  },
  "language_info": {
   "codemirror_mode": {
    "name": "ipython",
    "version": 3
   },
   "file_extension": ".py",
   "mimetype": "text/x-python",
   "name": "python",
   "nbconvert_exporter": "python",
   "pygments_lexer": "ipython3",
   "version": "3.9.12"
  }
 },
 "nbformat": 4,
 "nbformat_minor": 4
}
