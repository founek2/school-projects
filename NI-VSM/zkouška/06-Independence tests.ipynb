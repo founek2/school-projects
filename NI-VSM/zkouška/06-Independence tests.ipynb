{
 "cells": [
  {
   "cell_type": "markdown",
   "id": "behind-seminar",
   "metadata": {},
   "source": [
    "# Testy nezávislosti"
   ]
  },
  {
   "cell_type": "code",
   "execution_count": null,
   "id": "academic-constant",
   "metadata": {},
   "outputs": [],
   "source": [
    "import numpy as np\n",
    "import scipy.stats as st"
   ]
  },
  {
   "cell_type": "markdown",
   "id": "enormous-palace",
   "metadata": {},
   "source": [
    "## Příklad 6.1"
   ]
  },
  {
   "cell_type": "code",
   "execution_count": null,
   "id": "curious-former",
   "metadata": {},
   "outputs": [],
   "source": [
    "# data\n",
    "x = [0.055 , 0.068 , 0.102 , 0.105 , 0.118 , 0.160 , 0.178 , 0.203 , 0.260 , 0.274, 0.289 , 0.291 , 0.346 , 0.358 , 0.366 , 0.472 , 0.588 , 0.617 , 0.721 , 0.932]\n",
    "n = len(x)"
   ]
  },
  {
   "cell_type": "code",
   "execution_count": null,
   "id": "green-syria",
   "metadata": {},
   "outputs": [],
   "source": [
    "# četnosti\n",
    "k = 4 #počet binů\n",
    "Ni, edges = np.histogram(x, bins = k, range = (0,1), density = None)\n",
    "n = np.sum(Ni)\n",
    "print(\"Edges =\" ,edges)\n",
    "print(\"n = \", n, \", Ni = \", Ni, sep=\"\")\n"
   ]
  },
  {
   "cell_type": "code",
   "execution_count": null,
   "id": "independent-classification",
   "metadata": {},
   "outputs": [],
   "source": [
    "# teoretické četnosti\n",
    "k = 4\n",
    "pi = np.ones(k) * 1/k\n",
    "npi = n * pi\n",
    "print(\"pi =\", pi)\n",
    "print(\"npi =\", npi)"
   ]
  },
  {
   "cell_type": "code",
   "execution_count": null,
   "id": "informed-country",
   "metadata": {},
   "outputs": [],
   "source": [
    "# testová statistika\n",
    "Chi2 = sum((Ni - npi)*(Ni - npi)/npi)\n",
    "print(\"Chi2 =\", Chi2)\n",
    "# kritická hodnota\n",
    "alpha = 0.05\n",
    "df = k-1\n",
    "chi2 = st.chi2.isf(alpha,df)\n",
    "print(\"chi2 =\", chi2)"
   ]
  },
  {
   "cell_type": "code",
   "execution_count": null,
   "id": "copyrighted-capture",
   "metadata": {},
   "outputs": [],
   "source": [
    "# p-hodnota\n",
    "p = st.chi2.sf(Chi2,df) # = 1-st.chi2.cdf(Chi2,df)\n",
    "print(\"p =\", p)"
   ]
  },
  {
   "cell_type": "code",
   "execution_count": null,
   "id": "configured-healthcare",
   "metadata": {},
   "outputs": [],
   "source": [
    "# pomocí funkce\n",
    "st.chisquare(Ni,npi)"
   ]
  },
  {
   "cell_type": "markdown",
   "id": "graphic-studio",
   "metadata": {},
   "source": [
    "## Příklad 6.2"
   ]
  },
  {
   "cell_type": "code",
   "execution_count": null,
   "id": "wireless-citation",
   "metadata": {},
   "outputs": [],
   "source": [
    "# skutečné četnosti\n",
    "Nij = np.matrix([[1, 11, 7, 21],[0, 8, 23, 29]])\n",
    "n = np.sum(Nij)\n",
    "print(\"Nij =\\n\", Nij)\n",
    "print(\"n =\", n)"
   ]
  },
  {
   "cell_type": "code",
   "execution_count": null,
   "id": "swiss-wallpaper",
   "metadata": {},
   "outputs": [],
   "source": [
    "# odhady marginál\n",
    "pi_ = np.sum(Nij, axis = 1)/n\n",
    "p_j = np.sum(Nij, axis = 0)/n\n",
    "print(\"pi_ =\\n\", pi_)\n",
    "print(\"p_j =\\n\", p_j)"
   ]
  },
  {
   "cell_type": "code",
   "execution_count": null,
   "id": "apparent-drill",
   "metadata": {},
   "outputs": [],
   "source": [
    "# teoretické četnosti\n",
    "pipj = np.matmul(pi_,p_j)\n",
    "print(\"pipj =\\n\",pipj)\n",
    "npipj = n * pipj\n",
    "print(\"npipj =\\n\",npipj)"
   ]
  },
  {
   "cell_type": "code",
   "execution_count": null,
   "id": "permanent-vitamin",
   "metadata": {},
   "outputs": [],
   "source": [
    "# nutné sloučit 1. a 2. sloupec\n",
    "cc12 = np.sum(Nij[:,:2], axis = 1)\n",
    "cc34 = Nij[:,2:]\n",
    "Nij = np.append(cc12, cc34, axis = 1)\n",
    "n = np.sum(Nij)\n",
    "print(\"Nij =\\n\", Nij)\n",
    "print(\"n =\", n)"
   ]
  },
  {
   "cell_type": "code",
   "execution_count": null,
   "id": "rapid-fisher",
   "metadata": {},
   "outputs": [],
   "source": [
    "# odhady marginál\n",
    "pi_ = np.sum(Nij, axis = 1)/n\n",
    "p_j = np.sum(Nij, axis = 0)/n\n",
    "print(\"pi_ =\\n\", pi_)\n",
    "print(\"p_j =\\n\", p_j)\n",
    "# teoretické četnosti\n",
    "pipj = np.matmul(pi_,p_j)\n",
    "print(\"pipj =\\n\",pipj)\n",
    "npipj = n * pipj\n",
    "print(\"npipj =\\n\",npipj)"
   ]
  },
  {
   "cell_type": "code",
   "execution_count": null,
   "id": "antique-square",
   "metadata": {},
   "outputs": [],
   "source": [
    "# testová statistika\n",
    "Chi2 = np.sum(np.square(Nij - npipj)/npipj)\n",
    "print(\"Chi2 =\", Chi2)\n",
    "# kritická hodnota\n",
    "alpha = 0.05\n",
    "df = (np.size(Nij,axis =0) - 1)*(np.size(Nij,axis =1) - 1)\n",
    "print(\"df =\",df)\n",
    "chi2 = st.chi2.isf(alpha,df)\n",
    "print(\"chi2 =\", chi2)"
   ]
  },
  {
   "cell_type": "code",
   "execution_count": null,
   "id": "excited-survey",
   "metadata": {},
   "outputs": [],
   "source": [
    "# p-hodnota\n",
    "p = st.chi2.sf(Chi2,df) # = 1-st.chi2.cdf(Chi2,df)\n",
    "print(\"p =\", p)"
   ]
  },
  {
   "cell_type": "code",
   "execution_count": null,
   "id": "medieval-implement",
   "metadata": {},
   "outputs": [],
   "source": [
    "# pomocí funkce\n",
    "Chi2, p, df, _ = st.chi2_contingency(Nij, correction = False)\n",
    "print(\"Chi2 =\", Chi2)\n",
    "print(\"df =\",df)\n",
    "print(\"p =\", p)"
   ]
  },
  {
   "cell_type": "code",
   "execution_count": null,
   "id": "classical-aruba",
   "metadata": {},
   "outputs": [],
   "source": []
  }
 ],
 "metadata": {
  "kernelspec": {
   "display_name": "Python 3",
   "language": "python",
   "name": "python3"
  },
  "language_info": {
   "codemirror_mode": {
    "name": "ipython",
    "version": 3
   },
   "file_extension": ".py",
   "mimetype": "text/x-python",
   "name": "python",
   "nbconvert_exporter": "python",
   "pygments_lexer": "ipython3",
   "version": "3.7.7"
  }
 },
 "nbformat": 4,
 "nbformat_minor": 5
}
