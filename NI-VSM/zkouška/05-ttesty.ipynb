{
 "cells": [
  {
   "cell_type": "markdown",
   "id": "removable-allah",
   "metadata": {},
   "source": [
    "# T-Testy"
   ]
  },
  {
   "cell_type": "code",
   "execution_count": null,
   "id": "educational-michigan",
   "metadata": {},
   "outputs": [],
   "source": [
    "import numpy as np\n",
    "import scipy.stats as st"
   ]
  },
  {
   "cell_type": "markdown",
   "id": "interior-classic",
   "metadata": {},
   "source": [
    "## Příklad 5.1"
   ]
  },
  {
   "cell_type": "code",
   "execution_count": null,
   "id": "freelance-growing",
   "metadata": {},
   "outputs": [],
   "source": [
    "# Změřené množství nápoje\n",
    "x = np.array([0.510, 0.462, 0.451, 0.466, 0.491, 0.503, 0.475, 0.487, 0.512, 0.505])\n",
    "n = len(x)"
   ]
  },
  {
   "cell_type": "code",
   "execution_count": null,
   "id": "medical-lecture",
   "metadata": {},
   "outputs": [],
   "source": [
    "# Průměr\n",
    "Xn = sum(x)/n\n",
    "print(Xn, np.mean(x), st.tmean(x))"
   ]
  },
  {
   "cell_type": "code",
   "execution_count": null,
   "id": "former-classics",
   "metadata": {},
   "outputs": [],
   "source": [
    "# Výběrový rozptyl\n",
    "sn2 = sum((x-Xn)**2/(n-1))\n",
    "sn = np.sqrt(sn2)\n",
    "print(sn2, np.var(x, ddof = 1), st.tvar(x)) # , ddof = 1\n",
    "print(sn, np.std(x, ddof = 1), st.tstd(x)) # , ddof = 1"
   ]
  },
  {
   "cell_type": "markdown",
   "id": "statewide-transformation",
   "metadata": {},
   "source": [
    "$H_0: \\mu \\geq 0.5$ vs. $H_A: \\mu < 0.5$"
   ]
  },
  {
   "cell_type": "code",
   "execution_count": null,
   "id": "inside-party",
   "metadata": {},
   "outputs": [],
   "source": [
    "# testová statistika\n",
    "mu0 = 0.5\n",
    "T = (Xn - mu0)/sn*np.sqrt(n)\n",
    "print(T)"
   ]
  },
  {
   "cell_type": "code",
   "execution_count": null,
   "id": "excellent-oracle",
   "metadata": {},
   "outputs": [],
   "source": [
    "# kritická hodnota\n",
    "alpha = 0.05\n",
    "t = -st.t.ppf(1-alpha,n-1) # ppf = inverzní distribuční funkce\n",
    "print(t, -st.t.isf(alpha,n-1)) # isf = inverzní funkce přežití"
   ]
  },
  {
   "cell_type": "code",
   "execution_count": null,
   "id": "pursuant-preference",
   "metadata": {},
   "outputs": [],
   "source": [
    "# p-hodnota\n",
    "p = st.t.cdf(T,n-1) # cdf = distribuční funkce\n",
    "print(p)"
   ]
  },
  {
   "cell_type": "code",
   "execution_count": null,
   "id": "collaborative-hawaii",
   "metadata": {},
   "outputs": [],
   "source": [
    "st.ttest_1samp(x, mu0, alternative = 'less')"
   ]
  },
  {
   "cell_type": "markdown",
   "id": "fifteen-divide",
   "metadata": {},
   "source": [
    "## Příklad 5.2"
   ]
  },
  {
   "cell_type": "code",
   "execution_count": null,
   "id": "surgical-allowance",
   "metadata": {},
   "outputs": [],
   "source": [
    "# data\n",
    "n = 25\n",
    "k = 10\n",
    "# popisné hodnoty\n",
    "Xn = k/n\n",
    "sn = np.sqrt(k/(n-1)-k**2/n/(n-1))\n",
    "print(Xn, sn)"
   ]
  },
  {
   "cell_type": "code",
   "execution_count": null,
   "id": "nominated-avenue",
   "metadata": {},
   "outputs": [],
   "source": [
    "# simulace téhož\n",
    "x = np.random.permutation(np.append(np.zeros([1,n-k]),np.ones([1,k])))\n",
    "Xn = np.mean(x)\n",
    "sn = np.std(x, ddof = 1)\n",
    "print(x)\n",
    "print(Xn, sn)"
   ]
  },
  {
   "cell_type": "markdown",
   "id": "inside-spell",
   "metadata": {},
   "source": [
    "$H_0: \\mu = 0.5$ vs. $H_A: \\mu \\neq 0.5$"
   ]
  },
  {
   "cell_type": "code",
   "execution_count": null,
   "id": "improving-official",
   "metadata": {},
   "outputs": [],
   "source": [
    "# ručně\n",
    "mu = 0.5\n",
    "alpha = 0.05\n",
    "T = (Xn - mu0)/sn*np.sqrt(n)\n",
    "t = st.t.isf(alpha/2,n-1)\n",
    "print(T,t)"
   ]
  },
  {
   "cell_type": "code",
   "execution_count": null,
   "id": "innocent-percentage",
   "metadata": {},
   "outputs": [],
   "source": [
    "# pomocí funkce ttest\n",
    "st.ttest_1samp(x, mu0, alternative = 'two-sided')"
   ]
  },
  {
   "cell_type": "markdown",
   "id": "classified-hampshire",
   "metadata": {},
   "source": [
    "## Příklad 5.3"
   ]
  },
  {
   "cell_type": "code",
   "execution_count": null,
   "id": "covered-crystal",
   "metadata": {},
   "outputs": [],
   "source": [
    "# data\n",
    "b = np.array([0.82, 1.08, 1.01, 0.63, 1.45, 1.12, 0.56, 0.83, 1.16, 1.38])\n",
    "q = np.array([0.94, 0.79, 0.75, 0.74, 1.25, 0.79, 0.76, 0.75, 0.78, 0.78])\n",
    "z = b - q\n",
    "print(z)"
   ]
  },
  {
   "cell_type": "markdown",
   "id": "dedicated-delhi",
   "metadata": {},
   "source": [
    "$H_0: \\mu_B \\leq \\mu_Q$ vs. $H_A: \\mu_B > \\mu_Q$\n",
    "\n",
    "$H_0: \\mu_Z \\leq 0$ vs. $H_A: \\mu_Z > 0$"
   ]
  },
  {
   "cell_type": "code",
   "execution_count": null,
   "id": "toxic-mailman",
   "metadata": {},
   "outputs": [],
   "source": [
    "# pomocí funkce ttest\n",
    "st.ttest_1samp(z, 0, alternative = 'greater')"
   ]
  },
  {
   "cell_type": "code",
   "execution_count": null,
   "id": "indian-significance",
   "metadata": {},
   "outputs": [],
   "source": [
    "1-st.t.cdf(2.12,9)"
   ]
  },
  {
   "cell_type": "markdown",
   "id": "amazing-incident",
   "metadata": {},
   "source": [
    "## Příklad 5.4"
   ]
  },
  {
   "cell_type": "code",
   "execution_count": null,
   "id": "organic-garden",
   "metadata": {},
   "outputs": [],
   "source": [
    "# data\n",
    "x = np.array([0.510, 0.462, 0.451, 0.466])\n",
    "y = np.array([0.491, 0.503, 0.475, 0.487, 0.512, 0.505])\n",
    "\n",
    "n = len(x)\n",
    "m = len(y)\n",
    "Xn = np.mean(x)\n",
    "Ym = np.mean(y)\n",
    "sX2 = np.var(x, ddof=1)\n",
    "sY2 = np.var(y, ddof=1)\n",
    "sX = np.std(x, ddof=1)\n",
    "sY = np.std(y, ddof=1)\n",
    "print('Xn = ', Xn, \", sX = \", sX, \", n = \", n , sep = \"\")\n",
    "print('Ym = ', Ym, \", sY = \", sY, \", m = \", m , sep = \"\")"
   ]
  },
  {
   "cell_type": "markdown",
   "id": "polished-wilson",
   "metadata": {},
   "source": [
    "### Různé rozptyly - není důvod předpokládat, že by byly stejné"
   ]
  },
  {
   "cell_type": "markdown",
   "id": "coordinate-pursuit",
   "metadata": {},
   "source": [
    "a) $H_0: \\mu_X = \\mu_Y$ vs. $H_A: \\mu_X \\neq \\mu_Y$"
   ]
  },
  {
   "cell_type": "code",
   "execution_count": null,
   "id": "hidden-newark",
   "metadata": {},
   "outputs": [],
   "source": [
    "# ručně\n",
    "alpha = 0.05\n",
    "sd2 = (sX2/n + sY2/m)\n",
    "nd = sd2**2/((sX2/n)**2/(n-1) + (sY2/m)**2/(m-1))\n",
    "T = (Xn - Ym)/np.sqrt(sd2)\n",
    "t = st.t.isf(alpha/2,nd)\n",
    "p = 2*st.t.sf(np.abs(T),nd) # = 2*(1 - st.t.cdf(np.abs(T),nd))\n",
    "print(\"T = \", T, \", t = \", t , \", nd = \", nd, sep=\"\")\n",
    "print(\"p = \", p)"
   ]
  },
  {
   "cell_type": "code",
   "execution_count": null,
   "id": "equivalent-nickname",
   "metadata": {},
   "outputs": [],
   "source": [
    "# pomocí funkce ttest\n",
    "st.ttest_ind(x, y, alternative = 'two-sided', equal_var = False)"
   ]
  },
  {
   "cell_type": "markdown",
   "id": "spiritual-underwear",
   "metadata": {},
   "source": [
    "b) $H_0: \\mu_X \\geq \\mu_Y$ vs. $H_A: \\mu_X < \\mu_Y$"
   ]
  },
  {
   "cell_type": "code",
   "execution_count": null,
   "id": "modified-burner",
   "metadata": {},
   "outputs": [],
   "source": [
    "t = -st.t.isf(alpha,nd)\n",
    "p = st.t.cdf(T,nd)\n",
    "print(\"T = \", T, \", t = \", t , \", nd = \", nd, sep=\"\")\n",
    "print(\"p = \", p)"
   ]
  },
  {
   "cell_type": "code",
   "execution_count": null,
   "id": "incomplete-quilt",
   "metadata": {},
   "outputs": [],
   "source": [
    "st.ttest_ind(x, y, alternative = 'less', equal_var = False)"
   ]
  },
  {
   "cell_type": "markdown",
   "id": "twenty-state",
   "metadata": {},
   "source": [
    "### Shodné rozptyly - je důvod předpokládat shodu, nebo si to otestuji"
   ]
  },
  {
   "cell_type": "code",
   "execution_count": null,
   "id": "disabled-beast",
   "metadata": {},
   "outputs": [],
   "source": [
    "# Test shody rozptylů\n",
    "## F - test\n",
    "F = sX2 / sY2\n",
    "p = 2*st.f.sf(F, n-1, m-1)\n",
    "print(\"F = \", F, \", p = \", p, sep=\"\")"
   ]
  },
  {
   "cell_type": "code",
   "execution_count": null,
   "id": "center-passion",
   "metadata": {},
   "outputs": [],
   "source": [
    "# Test normality\n",
    "st.normaltest(x)\n",
    "st.normaltest(y)"
   ]
  },
  {
   "cell_type": "code",
   "execution_count": null,
   "id": "original-faith",
   "metadata": {},
   "outputs": [],
   "source": [
    "## Levenův \n",
    "st.levene(x,y)"
   ]
  },
  {
   "cell_type": "markdown",
   "id": "precious-november",
   "metadata": {},
   "source": [
    "a) $H_0: \\mu_X = \\mu_Y$ vs. $H_A: \\mu_X \\neq \\mu_Y$"
   ]
  },
  {
   "cell_type": "code",
   "execution_count": null,
   "id": "hybrid-split",
   "metadata": {},
   "outputs": [],
   "source": [
    "# ručně\n",
    "s12 = np.sqrt(((n-1)*sX2 + (m-1)*sY2)/(n+m-2))\n",
    "T = (Xn - Ym)/s12*np.sqrt(n*m/(n+m))\n",
    "t = st.t.isf(alpha/2,n + m - 2)\n",
    "p = 2*st.t.sf(np.abs(T), df = n + m - 2)\n",
    "print(\"T = \", T, \", t = \", t,\", p = \", p, sep=\"\")"
   ]
  },
  {
   "cell_type": "code",
   "execution_count": null,
   "id": "integral-capital",
   "metadata": {},
   "outputs": [],
   "source": [
    "# pomocí funkce ttest\n",
    "st.ttest_ind(x, y, alternative = 'two-sided', equal_var = True)"
   ]
  },
  {
   "cell_type": "markdown",
   "id": "reflected-pillow",
   "metadata": {},
   "source": [
    "b) $H_0: \\mu_X \\geq \\mu_Y$ vs. $H_A: \\mu_X < \\mu_Y$"
   ]
  },
  {
   "cell_type": "code",
   "execution_count": null,
   "id": "further-slovenia",
   "metadata": {},
   "outputs": [],
   "source": [
    "# pomocí funkce ttest\n",
    "st.ttest_ind(x, y, alternative = 'less', equal_var = True)"
   ]
  },
  {
   "cell_type": "code",
   "execution_count": null,
   "id": "authentic-checklist",
   "metadata": {},
   "outputs": [],
   "source": [
    "x = np.array([15 , 10 , 20 , 5 , 0]);\n",
    "mu0 = 0;\n",
    "st.ttest_1samp(x, mu0, alternative = 'greater')"
   ]
  },
  {
   "cell_type": "code",
   "execution_count": null,
   "id": "acceptable-links",
   "metadata": {},
   "outputs": [],
   "source": []
  }
 ],
 "metadata": {
  "kernelspec": {
   "display_name": "Python 3",
   "language": "python",
   "name": "python3"
  },
  "language_info": {
   "codemirror_mode": {
    "name": "ipython",
    "version": 3
   },
   "file_extension": ".py",
   "mimetype": "text/x-python",
   "name": "python",
   "nbconvert_exporter": "python",
   "pygments_lexer": "ipython3",
   "version": "3.7.7"
  }
 },
 "nbformat": 4,
 "nbformat_minor": 5
}
