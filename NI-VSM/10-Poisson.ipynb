{
 "cells": [
  {
   "cell_type": "markdown",
   "metadata": {},
   "source": [
    "# Poisson process"
   ]
  },
  {
   "cell_type": "code",
   "execution_count": 1,
   "metadata": {},
   "outputs": [],
   "source": [
    "import numpy as np\n",
    "np.set_printoptions(precision = 4, suppress = True)\n",
    "import matplotlib.pyplot as plt\n",
    "%matplotlib inline"
   ]
  },
  {
   "cell_type": "code",
   "execution_count": 6,
   "metadata": {
    "tags": []
   },
   "outputs": [
    {
     "name": "stdout",
     "output_type": "stream",
     "text": [
      "[0.     5.0168 0.9581 1.3107 0.1181 2.2917 9.4531 3.5636 0.9547 0.9819\n",
      " 0.969 ]\n"
     ]
    }
   ],
   "source": [
    "X = np.random.exponential(scale = 2, size=10)\n",
    "X = np.insert(X , 0, 0)\n",
    "print(X)"
   ]
  },
  {
   "cell_type": "code",
   "execution_count": 7,
   "metadata": {
    "tags": []
   },
   "outputs": [
    {
     "name": "stdout",
     "output_type": "stream",
     "text": [
      "[ 0.      5.0168  5.9749  7.2856  7.4037  9.6954 19.1485 22.7121 23.6669\n",
      " 24.6488 25.6178]\n",
      "[ 0  1  2  3  4  5  6  7  8  9 10]\n"
     ]
    }
   ],
   "source": [
    "T = np.cumsum(X)\n",
    "print(T)\n",
    "N = np.array(range(T.size))\n",
    "print(N)"
   ]
  },
  {
   "cell_type": "code",
   "execution_count": 8,
   "metadata": {
    "tags": []
   },
   "outputs": [
    {
     "data": {
      "image/png": "[encoded data removed]",
      "text/plain": [
       "<Figure size 432x288 with 1 Axes>"
      ]
     },
     "metadata": {
      "needs_background": "light"
     },
     "output_type": "display_data"
    }
   ],
   "source": [
    "plt.step(T, N, where='post')\n",
    "plt.show()"
   ]
  },
  {
   "cell_type": "markdown",
   "metadata": {},
   "source": [
    "## Trajektorie pomocí cyklu"
   ]
  },
  {
   "cell_type": "code",
   "execution_count": 9,
   "metadata": {},
   "outputs": [
    {
     "name": "stdout",
     "output_type": "stream",
     "text": [
      "[[ 0.      0.    ]\n",
      " [ 1.      0.3734]\n",
      " [ 2.      0.5484]\n",
      " [ 3.      0.7997]\n",
      " [ 4.      1.3643]\n",
      " [ 5.      1.9753]\n",
      " [ 6.      2.2046]\n",
      " [ 7.      2.6338]\n",
      " [ 8.      2.9016]\n",
      " [ 9.      3.1764]\n",
      " [10.      3.4519]\n",
      " [11.      3.5413]\n",
      " [12.      3.9475]\n",
      " [13.      4.293 ]\n",
      " [14.      4.9395]\n",
      " [15.      6.094 ]\n",
      " [16.      6.7402]\n",
      " [17.      6.7609]\n",
      " [18.      7.8087]\n",
      " [19.      8.1267]\n",
      " [20.      8.6956]\n",
      " [21.      9.3155]\n",
      " [22.      9.4478]\n",
      " [23.      9.4787]\n",
      " [23.     10.    ]]\n"
     ]
    }
   ],
   "source": [
    "# Parametry\n",
    "Tmax = 10\n",
    "lamb = 2\n",
    "# Geneorovani\n",
    "T = []\n",
    "Tlast = 0\n",
    "beta = 1/lamb\n",
    "while Tlast < Tmax:\n",
    "    T = np.append(T,Tlast)\n",
    "    X = np.random.exponential(scale = beta)\n",
    "    Tlast = Tlast + X\n",
    "\n",
    "N = np.array(range(T.size))\n",
    "T = np.append(T,Tmax)\n",
    "N = np.append(N,N[-1])\n",
    "# print(T)\n",
    "# print(N)\n",
    "print(np.transpose(np.matrix(np.reshape(np.append(N,T),(2,-1)))))"
   ]
  },
  {
   "cell_type": "code",
   "execution_count": 10,
   "metadata": {},
   "outputs": [
    {
     "data": {
      "image/png": "[encoded data removed]",
      "text/plain": [
       "<Figure size 432x288 with 1 Axes>"
      ]
     },
     "metadata": {
      "needs_background": "light"
     },
     "output_type": "display_data"
    }
   ],
   "source": [
    "plt.step(T, N, where='post')\n",
    "plt.show()"
   ]
  },
  {
   "cell_type": "markdown",
   "metadata": {},
   "source": [
    "## Poisson pomocí Unif příchodů"
   ]
  },
  {
   "cell_type": "code",
   "execution_count": 17,
   "metadata": {},
   "outputs": [
    {
     "name": "stdout",
     "output_type": "stream",
     "text": [
      "19\n",
      "[[ 0.      0.    ]\n",
      " [ 1.      0.7423]\n",
      " [ 2.      1.9481]\n",
      " [ 3.      2.0714]\n",
      " [ 4.      3.1746]\n",
      " [ 5.      3.5977]\n",
      " [ 6.      3.7075]\n",
      " [ 7.      4.065 ]\n",
      " [ 8.      4.2142]\n",
      " [ 9.      4.3488]\n",
      " [10.      4.3915]\n",
      " [11.      4.9876]\n",
      " [12.      5.0293]\n",
      " [13.      5.0357]\n",
      " [14.      5.1339]\n",
      " [15.      5.8022]\n",
      " [16.      6.4034]\n",
      " [17.      6.936 ]\n",
      " [18.      7.5769]\n",
      " [19.      9.6407]\n",
      " [19.     10.    ]]\n"
     ]
    }
   ],
   "source": [
    "# Parametry\n",
    "lamb = 2\n",
    "Tmax = 10\n",
    "# Vypocet\n",
    "n = np.random.poisson(lamb*Tmax)\n",
    "print(n)\n",
    "U = np.random.uniform(low=0, high=Tmax, size=n)\n",
    "# print(U)\n",
    "T = np.sort(U)\n",
    "T = np.append([0],T)\n",
    "N = np.array(range(n+1))\n",
    "T = np.append(T,Tmax)\n",
    "N = np.append(N,N[-1])\n",
    "# print(T)\n",
    "# print(N)\n",
    "print(np.transpose(np.matrix(np.reshape(np.append(N,T),(2,-1)))))"
   ]
  },
  {
   "cell_type": "code",
   "execution_count": 13,
   "metadata": {},
   "outputs": [
    {
     "name": "stdout",
     "output_type": "stream",
     "text": [
      "13\n",
      "[2.2346 6.2384 0.6902 7.7686 8.3419 2.7763 3.8598 8.5367 0.3552 9.4897\n",
      " 1.3639 0.8813 2.4929]\n"
     ]
    }
   ],
   "source": [
    "print(n)\n",
    "print(U)"
   ]
  },
  {
   "cell_type": "code",
   "execution_count": 14,
   "metadata": {},
   "outputs": [
    {
     "data": {
      "image/png": "[encoded data removed]",
      "text/plain": [
       "<Figure size 432x288 with 1 Axes>"
      ]
     },
     "metadata": {
      "needs_background": "light"
     },
     "output_type": "display_data"
    }
   ],
   "source": [
    "plt.step(T, N, where='post')\n",
    "plt.show()"
   ]
  },
  {
   "cell_type": "markdown",
   "metadata": {},
   "source": [
    "# Simulace řetězce s diskrétním časem"
   ]
  },
  {
   "cell_type": "code",
   "execution_count": 18,
   "metadata": {},
   "outputs": [
    {
     "name": "stdout",
     "output_type": "stream",
     "text": [
      "[1. 0. 1. 0. 1. 1. 0. 0. 2. 1. 0. 0. 0. 0. 1. 1. 0. 0. 2. 1.]\n"
     ]
    }
   ],
   "source": [
    "# Matice prechodu\n",
    "D = [[1/3,1/3,1/3],[1/2,1/2,0],[0,1,0]]\n",
    "# pocet kroku je n\n",
    "# n = 10\n",
    "# print(np.matrix(D))\n",
    "# pocatecni rozdeleni\n",
    "p0 = [0,1,0]\n",
    "# pocatecni stav\n",
    "v = np.random.multinomial(1, p0 , size=1)\n",
    "s0 = np.where(v == 1)[1]\n",
    "Y = np.zeros(n+1)\n",
    "Y[0] = s0\n",
    "sk = s0\n",
    "for k in range(1,n+1):\n",
    "    v = np.random.multinomial(1, D[sk[0]] , size=1)\n",
    "    sk = np.where(v == 1)[1]\n",
    "    Y[k] = sk\n",
    "\n",
    "print(Y)"
   ]
  },
  {
   "cell_type": "markdown",
   "metadata": {},
   "source": [
    "# Časování Poissonem"
   ]
  },
  {
   "cell_type": "code",
   "execution_count": 19,
   "metadata": {},
   "outputs": [
    {
     "data": {
      "image/png": "[encoded data removed]",
      "text/plain": [
       "<Figure size 432x288 with 1 Axes>"
      ]
     },
     "metadata": {
      "needs_background": "light"
     },
     "output_type": "display_data"
    }
   ],
   "source": [
    "plt.step(T, np.append(Y,Y[-1]), where='post')\n",
    "plt.show()"
   ]
  },
  {
   "cell_type": "code",
   "execution_count": null,
   "metadata": {},
   "outputs": [],
   "source": []
  }
 ],
 "metadata": {
  "kernelspec": {
   "display_name": "Python 3",
   "language": "python",
   "name": "python3"
  },
  "language_info": {
   "codemirror_mode": {
    "name": "ipython",
    "version": 3
   },
   "file_extension": ".py",
   "mimetype": "text/x-python",
   "name": "python",
   "nbconvert_exporter": "python",
   "pygments_lexer": "ipython3",
   "version": "3.7.7"
  }
 },
 "nbformat": 4,
 "nbformat_minor": 4
}
