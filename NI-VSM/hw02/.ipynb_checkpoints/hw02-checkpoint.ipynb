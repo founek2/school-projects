{
 "cells": [
  {
   "cell_type": "markdown",
   "id": "fa2cbb18",
   "metadata": {},
   "source": [
    "# 1. domácí úkol\n",
    "## Načtení dat + výpočet výskytu slov"
   ]
  },
  {
   "cell_type": "code",
   "execution_count": 1,
   "id": "e8d1b8e0",
   "metadata": {},
   "outputs": [
    {
     "name": "stdout",
     "output_type": "stream",
     "text": [
      "Výskyty délek v textu7\n"
     ]
    },
    {
     "data": {
      "text/plain": [
       "OrderedDict([(1, 33),\n",
       "             (2, 177),\n",
       "             (3, 316),\n",
       "             (4, 156),\n",
       "             (5, 141),\n",
       "             (6, 91),\n",
       "             (7, 76),\n",
       "             (8, 54),\n",
       "             (9, 33),\n",
       "             (10, 9),\n",
       "             (11, 5),\n",
       "             (12, 4),\n",
       "             (13, 2),\n",
       "             (14, 1),\n",
       "             (15, 2)])"
      ]
     },
     "execution_count": 1,
     "metadata": {},
     "output_type": "execute_result"
    }
   ],
   "source": [
    "import typing\n",
    "import collections\n",
    "from scipy import stats\n",
    "import numpy as np\n",
    "\n",
    "f1 = open(\"../001.txt\", \"r\")\n",
    "f7 = open(\"../007.txt\", \"r\")\n",
    "\n",
    "def lenOccurences(X: list):\n",
    "    return collections.OrderedDict(sorted(collections.Counter(X).items()))\n",
    "\n",
    "def wordLen(f: typing.TextIO):\n",
    "    occurrences = []\n",
    "    lines = f.readlines()\n",
    "    for line in lines[1:]:    # skip first line\n",
    "        occurrences = occurrences + list(map(len, line.split(\" \")))\n",
    "    return np.array(occurrences).flatten()\n",
    "\n",
    "X1 = wordLen(f1)\n",
    "X7 = wordLen(f7)\n",
    "\n",
    "occurrences1 = lenOccurences(X1)\n",
    "occurrences7 = lenOccurences(X7)\n",
    "print(\"Výskyty délek v textu7\")\n",
    "occurrences7"
   ]
  },
  {
   "cell_type": "markdown",
   "id": "8923af86",
   "metadata": {},
   "source": [
    "## Odhad pravděpodobnosti jednotlivých délek slov\n",
    "Odhad střední hodnoty pomocí výběrového průměru.\n",
    "Odhad rozptylu pomocí výberového rozptylu."
   ]
  },
  {
   "cell_type": "code",
   "execution_count": 2,
   "id": "b3f65a57",
   "metadata": {},
   "outputs": [
    {
     "name": "stdout",
     "output_type": "stream",
     "text": [
      "Text 1:\n",
      "  μ=4.3825\n",
      "  sn2=4.937748366283397\n",
      "Text 9:\n",
      "  μ=4.303636363636364\n",
      "  sn2=4.937748366283397\n"
     ]
    }
   ],
   "source": [
    "μ1 = np.mean(X1)\n",
    "μ7 =  np.mean(X7)\n",
    "\n",
    "sX1_2 = np.var(X1, ddof=1)\n",
    "sX7_2 = np.var(X7, ddof=1)\n",
    "sX1 = np.std(X1, ddof=1)\n",
    "sX7 = np.std(X7, ddof=1)\n",
    "\n",
    "print(\"Text 1:\")\n",
    "print(f\"  μ={μ1}\")\n",
    "print(f\"  sn2={sX7_2}\")\n",
    "print(\"Text 9:\")\n",
    "print(f\"  μ={μ7}\")\n",
    "print(f\"  sn2={sX7_2}\")"
   ]
  },
  {
   "cell_type": "code",
   "execution_count": 3,
   "id": "21bc4411",
   "metadata": {},
   "outputs": [],
   "source": [
    "from matplotlib import pyplot as plt\n",
    "\n",
    "def toArray(any):\n",
    "    return np.array(list(any))\n",
    "\n",
    "def probabilities(X: list):\n",
    "    occurrences = lenOccurences(X)\n",
    "    return occurrences.keys(), toArray(occurrences.values()) / sum(occurrences.values())"
   ]
  },
  {
   "cell_type": "markdown",
   "id": "97bb25e3",
   "metadata": {},
   "source": [
    "## Vizualizace délek textu"
   ]
  },
  {
   "cell_type": "code",
   "execution_count": 5,
   "id": "dcd11bf0",
   "metadata": {},
   "outputs": [
    {
     "data": {
      "image/png": "[encoded data removed]",
      "text/plain": [
       "<Figure size 1080x432 with 2 Axes>"
      ]
     },
     "metadata": {
      "needs_background": "light"
     },
     "output_type": "display_data"
    }
   ],
   "source": [
    "fig, (ax1, ax2) = plt.subplots(ncols=2, figsize=(15, 6))\n",
    "fig.suptitle(\"Vizualizace\")\n",
    "# Generates a probability plot of sample data against the quantiles of a specified theoretical distribution \n",
    "# (the normal distribution by default)\n",
    "lens, prob = probabilities(X1)\n",
    "ax1.bar(lens, prob);\n",
    "ax1.set_xlabel(\"délka slova\")\n",
    "ax1.set_ylabel(\"pravděpodobnost\")\n",
    "ax1.set_title(\"Text1\")\n",
    "\n",
    "lens, prob = probabilities(X7)\n",
    "ax2.bar(lens, prob);\n",
    "ax2.set_xlabel(\"délka slova\")\n",
    "ax2.set_ylabel(\"pravděpodobnost\")\n",
    "ax2.set_title(\"Text7\");"
   ]
  },
  {
   "cell_type": "markdown",
   "id": "30122061",
   "metadata": {},
   "source": [
    "## Odhad pravděpodobnosti znaků (bez mezery)"
   ]
  },
  {
   "cell_type": "code",
   "execution_count": 6,
   "id": "102a6eda",
   "metadata": {},
   "outputs": [],
   "source": [
    "\n",
    "f1 = open(\"../001.txt\", \"r\")\n",
    "f7 = open(\"../007.txt\", \"r\")\n",
    "\n",
    "def chars(f: typing.TextIO):\n",
    "    values = []\n",
    "    lines = f.readlines()\n",
    "    for line in lines[1:]:    # skip first line\n",
    "        values = values + list(line)\n",
    "    values = [x for x in values if x != \" \"]    # ignore spacce\n",
    "    return values\n",
    "    \n",
    "char_X1 = chars(f1)\n",
    "char_X7 = chars(f7)\n",
    "char_occurrences1 = lenOccurences(char_X1)\n",
    "char_occurrences7 = lenOccurences(char_X7)\n"
   ]
  },
  {
   "cell_type": "markdown",
   "id": "6fabf39b",
   "metadata": {},
   "source": [
    "## Vizualizace pravděpodobnosti znaků (bez mezery)"
   ]
  },
  {
   "cell_type": "code",
   "execution_count": 7,
   "id": "3b65f8e2",
   "metadata": {},
   "outputs": [
    {
     "data": {
      "image/png": "[encoded data removed]",
      "text/plain": [
       "<Figure size 1080x432 with 2 Axes>"
      ]
     },
     "metadata": {
      "needs_background": "light"
     },
     "output_type": "display_data"
    }
   ],
   "source": [
    "fig, (ax1, ax2) = plt.subplots(ncols=2, figsize=(15, 6))\n",
    "fig.suptitle(\"Vizualizace\")\n",
    "# Generates a probability plot of sample data against the quantiles of a specified theoretical distribution \n",
    "# (the normal distribution by default)\n",
    "lens, prob = probabilities(char_X1)\n",
    "ax1.bar(lens, prob)\n",
    "ax1.set_xlabel(\"znak\")\n",
    "ax1.set_ylabel(\"pravděpodobnost\")\n",
    "ax1.set_title(\"Text1\")\n",
    "\n",
    "lens, prob = probabilities(char_X7)\n",
    "ax2.bar(lens, prob)\n",
    "ax2.set_xlabel(\"znak\")\n",
    "ax2.set_ylabel(\"pravděpodobnost\")\n",
    "ax2.set_title(\"Text7\");"
   ]
  },
  {
   "cell_type": "markdown",
   "id": "46ddf053",
   "metadata": {},
   "source": [
    "# Test nezávislost rozdělení délky slov na textu\n",
    "Na hladině významnosti 5% otestujte hypotézu, že rozdělení délek slov nezávisí na tom, o který jde text. Určete také p-hodnotu testu."
   ]
  },
  {
   "cell_type": "code",
   "execution_count": 9,
   "id": "97033541",
   "metadata": {},
   "outputs": [],
   "source": [
    "α = 0.05"
   ]
  },
  {
   "cell_type": "markdown",
   "id": "66e3192f",
   "metadata": {},
   "source": [
    "$H_0:$ rozdělení délek slov nezávisí na tom, o který jde text vs. $H_A:$ rozdělení slov závisí na tom, o který text jde\n",
    "\n",
    "Test provedu pomocí testu nezávislosti v kontingenční tabulce"
   ]
  },
  {
   "cell_type": "code",
   "execution_count": 13,
   "id": "0f7fd537",
   "metadata": {},
   "outputs": [
    {
     "name": "stdout",
     "output_type": "stream",
     "text": [
      "Kontingenční tabulka\n",
      "[[ 24 163 288 261 163 113  93  41  29  12  10   2   1   0   0]\n",
      " [ 33 177 316 156 141  91  76  54  33   9   5   4   2   1   2]]\n",
      "\n",
      "px\n",
      " [0.52173913 0.47826087]\n",
      "py\n",
      " [0.02478261 0.14782609 0.2626087  0.18130435 0.13217391 0.08869565\n",
      " 0.07347826 0.04130435 0.02695652 0.00913043 0.00652174 0.0026087\n",
      " 0.00130435 0.00043478 0.00086957]\n",
      "\n",
      "očekávané četnosti\n",
      "[[ 29.73913043 177.39130435 315.13043478 217.56521739 158.60869565\n",
      "  106.43478261  88.17391304  49.56521739  32.34782609  10.95652174\n",
      "    7.82608696   3.13043478   1.56521739   0.52173913   1.04347826]\n",
      " [ 27.26086957 162.60869565 288.86956522 199.43478261 145.39130435\n",
      "   97.56521739  80.82608696  45.43478261  29.65217391  10.04347826\n",
      "    7.17391304   2.86956522   1.43478261   0.47826087   0.95652174]]\n",
      "Testová statistika 39.26775288959679\n",
      "\n",
      "merged last four collumns, expected freq\n",
      " [[ 29.73913043 177.39130435 315.13043478 217.56521739 158.60869565\n",
      "  106.43478261  88.17391304  49.56521739  32.34782609  10.95652174\n",
      "    7.82608696   6.26086957]\n",
      " [ 27.26086957 162.60869565 288.86956522 199.43478261 145.39130435\n",
      "   97.56521739  80.82608696  45.43478261  29.65217391  10.04347826\n",
      "    7.17391304   5.73913043]]\n",
      "\n",
      "dof=11, pvalue = 7.05503176265128e-05 < 0.05 = α => zamítáme H0 (rozdělení délky slov nezávisí na textu) na hladině významnosti 0.05\n"
     ]
    }
   ],
   "source": [
    "def values(occ: dict):\n",
    "    return list(occ.values())\n",
    "\n",
    "def fill_zero_occurencies(occ1: dict, occ2: dict):\n",
    "    for k in occ2.keys():\n",
    "        occ1[k] = occ1.get(k, 0)\n",
    "# first text is missing words with len 13 and 15 -> fill zero\n",
    "fill_zero_occurencies(occurrences1, occurrences7)\n",
    "\n",
    "contingancy_table = np.array([values(occurrences1), values(occurrences7)])\n",
    "print(\"Kontingenční tabulka\")\n",
    "print(contingancy_table)\n",
    "\n",
    "n = np.sum(contingancy_table)\n",
    "\n",
    "## Marginální pravděpodobnosti\n",
    "px=np.sum(contingancy_table, axis=1)/n\n",
    "py=np.sum(contingancy_table, axis=0)/n\n",
    "print()\n",
    "print(\"px\\n\", px)\n",
    "print(\"py\\n\", py)\n",
    "\n",
    "## Očekávané £etnosti\n",
    "n_p = (px[:, None] @ py[:, None].T) * n\n",
    "print()\n",
    "print(\"očekávané četnosti\")\n",
    "print(n_p)\n",
    "\n",
    "## Testová statistika\n",
    "Xstat= np.sum((contingancy_table-n_p)**2/n_p)\n",
    "print(\"Testová statistika\", Xstat)\n",
    "\n",
    "# Abychom mohli použít χ2 test nezávislosti, v každém políčku bychom měli mít alespoň 5 očekávaných pozorování.\n",
    "# To zde není splěno, tedy sloučíme poslední čtyři délky slov. Získáme pozorované a očekávané četnosti\n",
    "contingancy_table = np.concatenate([contingancy_table[:, :-4], np.sum(contingancy_table[:, -4:], axis=1)[:, None]], axis=1)\n",
    "print(\"\\nmerged last four collumns, expected freq\\n\", stats.contingency.expected_freq(contingancy_table))\n",
    "\n",
    "chi2, p, dof, ex  = stats.contingency.chi2_contingency(contingancy_table, correction=False)\n",
    "print(f\"\\ndof={dof}, pvalue = {p} < {α} = α => zamítáme H0 (rozdělení délky slov nezávisí na textu) na hladině významnosti {α}\" )\n"
   ]
  },
  {
   "cell_type": "markdown",
   "id": "4d98bc86",
   "metadata": {},
   "source": [
    "# Test rovnosti střední délky\n",
    "$H_0: \\mu_X = \\mu_Y$ vs. $H_A: \\mu_X \\neq \\mu_Y$\n",
    "\n",
    "X - rozdělení textu 1\n",
    "\n",
    "Y - rozdělení textu 7\n",
    "\n",
    "na hladině významnosti α = 0.05\n",
    "Test provedu pomocí testu dobré schody χ2 rozdělení - pro stejné rozptyly i různé.."
   ]
  },
  {
   "cell_type": "markdown",
   "id": "9b96ce60",
   "metadata": {},
   "source": [
    "### Test pro stejné rozptyly\n",
    "Předpokládám, že by rozptyly délky slov dvou anglických textů by mohli být stejné - pro jistotu provedu Levenův test\n",
    "\n",
    "$H_0:$ rozptyly jsou shodné vs. $H_A:$ rozptyly jsou různé"
   ]
  },
  {
   "cell_type": "code",
   "execution_count": 15,
   "id": "c7d2d843",
   "metadata": {},
   "outputs": [
    {
     "name": "stdout",
     "output_type": "stream",
     "text": [
      "pvalue = 0.0031898281847167432 < 0.05 = α => zamítáme H0 (rozptyly jsou stejné) ve prospěch HA na hladině významnosti 0.05\n"
     ]
    }
   ],
   "source": [
    "T, pvalue = stats.levene(X1,X7)\n",
    "\n",
    "print(f\"pvalue = {pvalue} < {α} = α => zamítáme H0 (rozptyly jsou stejné) ve prospěch HA na hladině významnosti {α}\")"
   ]
  },
  {
   "cell_type": "markdown",
   "id": "9ad51c2e",
   "metadata": {},
   "source": [
    "### Test pro různé rozptyly\n",
    "Není důvod předpokládat, že délky slov dvou různých knižních děl mají stejný rozptyl"
   ]
  },
  {
   "cell_type": "code",
   "execution_count": 17,
   "id": "764b8fdc",
   "metadata": {
    "scrolled": true
   },
   "outputs": [
    {
     "data": {
      "text/plain": [
       "'pvalue = 0.3761833380996801 > 0.05 = α => nemáme dostatek informací pro zamítnutí H0 (střední délky slov různých textů jsou shodné) na hladině významnosti 0.05'"
      ]
     },
     "metadata": {},
     "output_type": "display_data"
    }
   ],
   "source": [
    "T, pvalue = stats.ttest_ind(X1, X7, alternative = 'two-sided', equal_var = False)\n",
    "\n",
    "display(f\"pvalue = {pvalue} > {α} = α => nemáme dostatek informací pro zamítnutí H0 (střední délky slov různých textů jsou shodné) na hladině významnosti {α}\")"
   ]
  },
  {
   "cell_type": "markdown",
   "id": "65278891",
   "metadata": {},
   "source": [
    "# Test zda rozdělení písmen nezávisí na textu\n",
    "$H_0:$ rozdělení písmen nezávisí na tom, o který jde text vs. $H_A:$ rozdělení písmen závisí na tom, o který text jde\n",
    "\n",
    "Test provedu pomocí testu nezávislosti v kontingenční tabulce"
   ]
  },
  {
   "cell_type": "code",
   "execution_count": 20,
   "id": "8ee7d115",
   "metadata": {},
   "outputs": [
    {
     "name": "stdout",
     "output_type": "stream",
     "text": [
      "Kontingenční tabulka\n",
      "[[ 24 163 288 261 163 113  93  41  29  12  10   2   1   0   0]\n",
      " [ 33 177 316 156 141  91  76  54  33   9   5   4   2   1   2]]\n",
      "\n",
      "Očekávané četnosti\n",
      "[[ 29.73913043 177.39130435 315.13043478 217.56521739 158.60869565\n",
      "  106.43478261  88.17391304  49.56521739  32.34782609  10.95652174\n",
      "    7.82608696   3.13043478   1.56521739   0.52173913   1.04347826]\n",
      " [ 27.26086957 162.60869565 288.86956522 199.43478261 145.39130435\n",
      "   97.56521739  80.82608696  45.43478261  29.65217391  10.04347826\n",
      "    7.17391304   2.86956522   1.43478261   0.47826087   0.95652174]]\n",
      "\n",
      "merged last four collumns, expected freq\n",
      "[[ 29.73913043 177.39130435 315.13043478 217.56521739 158.60869565\n",
      "  106.43478261  88.17391304  49.56521739  32.34782609  10.95652174\n",
      "    7.82608696   6.26086957]\n",
      " [ 27.26086957 162.60869565 288.86956522 199.43478261 145.39130435\n",
      "   97.56521739  80.82608696  45.43478261  29.65217391  10.04347826\n",
      "    7.17391304   5.73913043]]\n",
      "\n",
      "dof=11, pvalue = 7.05503176265128e-05 < 0.05 = α => zamítáme H0 (rozdělení písmen nezávisí na textu) na hladině významnosti 0.05\n"
     ]
    }
   ],
   "source": [
    "contingancy_table = np.array([values(occurrences1), values(occurrences7)])\n",
    "print(\"Kontingenční tabulka\")\n",
    "print(contingancy_table)\n",
    "\n",
    "print(\"\\nOčekávané četnosti\")\n",
    "print(stats.contingency.expected_freq(contingancy_table))\n",
    "\n",
    "# Abychom mohli použít χ2 test nezávislosti, v každém políčku bychom měli mít alespoň 5 očekávaných pozorování.\n",
    "# To zde není splěno, tedy sloučíme poslední čtyři výskyty písmen. Získáme pozorované a očekávané četnosti\n",
    "contingancy_table = np.concatenate([contingancy_table[:, :-4], np.sum(contingancy_table[:, -4:], axis=1)[:, None]], axis=1)\n",
    "print(\"\\nmerged last four collumns, expected freq\")\n",
    "print(stats.contingency.expected_freq(contingancy_table))\n",
    "\n",
    "\n",
    "chi2, p, dof, ex  = stats.contingency.chi2_contingency(contingancy_table, correction=False)\n",
    "print(f\"\\ndof={dof}, pvalue = {p} < {α} = α => zamítáme H0 (rozdělení písmen nezávisí na textu) na hladině významnosti {α}\" )\n"
   ]
  },
  {
   "cell_type": "code",
   "execution_count": null,
   "id": "e60e5032",
   "metadata": {},
   "outputs": [],
   "source": []
  }
 ],
 "metadata": {
  "kernelspec": {
   "display_name": "Python 3 (ipykernel)",
   "language": "python",
   "name": "python3"
  },
  "language_info": {
   "codemirror_mode": {
    "name": "ipython",
    "version": 3
   },
   "file_extension": ".py",
   "mimetype": "text/x-python",
   "name": "python",
   "nbconvert_exporter": "python",
   "pygments_lexer": "ipython3",
   "version": "3.10.2"
  }
 },
 "nbformat": 4,
 "nbformat_minor": 5
}
