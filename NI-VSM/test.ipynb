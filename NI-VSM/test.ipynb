{
 "cells": [
  {
   "cell_type": "code",
   "execution_count": 11,
   "metadata": {},
   "outputs": [
    {
     "data": {
      "text/plain": [
       "0.40972222222222227"
      ]
     },
     "execution_count": 11,
     "metadata": {},
     "output_type": "execute_result"
    }
   ],
   "source": [
    "import numpy as np\n",
    "import fractions\n",
    "import scipy.linalg as la\n",
    "\n",
    "np.set_printoptions(formatter={'all':lambda x: str(fractions.Fraction(x).limit_denominator())})\n",
    "\n",
    "np.array([1, 2]) @ np.array([[11/144, 1/144], [1/144, 11/144]]) @ np.array([1, 2]).T"
   ]
  },
  {
   "cell_type": "code",
   "execution_count": 12,
   "metadata": {},
   "outputs": [
    {
     "data": {
      "text/plain": [
       "array([[5/16, -3/16],\n",
       "       [-3/16, 5/16]])"
      ]
     },
     "execution_count": 12,
     "metadata": {},
     "output_type": "execute_result"
    }
   ],
   "source": [
    "sigma = np.array([[5,3], [3,5]])\n",
    "la.inv(sigma)"
   ]
  },
  {
   "cell_type": "code",
   "execution_count": 32,
   "metadata": {},
   "outputs": [],
   "source": [
    "def stac_rozdeleni(P):\n",
    "    # stacionární rozdělení\n",
    "    W = np.transpose(P-np.eye(P.shape[0])) \n",
    "    pi = la.null_space(W)\n",
    "    pi = np.transpose(pi/sum(pi)) # normalizace\n",
    "    print(\"pi =\",pi)\n",
    "    return pi\n",
    "\n"
   ]
  },
  {
   "cell_type": "code",
   "execution_count": 21,
   "metadata": {},
   "outputs": [
    {
     "name": "stdout",
     "output_type": "stream",
     "text": [
      "pi = [[1/10 1/5 2/5 3/10]]\n"
     ]
    }
   ],
   "source": [
    "P = np.array([[0.1, 0.2, 0.4, 0.3],[0.1, 0.2, 0.4, 0.3],[0.1, 0.2, 0.4, 0.3],[0.1, 0.2, 0.4, 0.3]])\n",
    "stac_rozdeleni(P)"
   ]
  },
  {
   "cell_type": "code",
   "execution_count": 22,
   "metadata": {},
   "outputs": [
    {
     "name": "stdout",
     "output_type": "stream",
     "text": [
      "pi = [[19/110 3/11 4/11 21/110]]\n"
     ]
    }
   ],
   "source": [
    "P = np.array([[0.1, 0.2, 0.4, 0.3],[0.1, 0.2, 0.4, 0.3],[0.3, 0.4, 0.3, 0],[0.1, 0.2, 0.4, 0.3]])\n",
    "stac_rozdeleni(P)"
   ]
  },
  {
   "cell_type": "code",
   "execution_count": 23,
   "metadata": {},
   "outputs": [
    {
     "name": "stdout",
     "output_type": "stream",
     "text": [
      "pi = [[4/19 5/19 5/19 5/19]]\n"
     ]
    }
   ],
   "source": [
    "P = np.array([[0,0,0,1],[0,0,0.8,0.2],[0,0.8,0.2,0],[0.8,0.2,0,0]])\n",
    "stac_rozdeleni(P)"
   ]
  },
  {
   "cell_type": "code",
   "execution_count": 33,
   "metadata": {},
   "outputs": [
    {
     "name": "stdout",
     "output_type": "stream",
     "text": [
      "pi = [[100/297 50/891 40/297 400/891 1/405 2/297 64/4455]]\n"
     ]
    },
    {
     "data": {
      "text/plain": [
       "array([[20000/33, 10000/99, 8000/33, 80000/99, 40/9, 400/33, 2560/99]])"
      ]
     },
     "execution_count": 33,
     "metadata": {},
     "output_type": "execute_result"
    }
   ],
   "source": [
    "P = np.array([[0.93, 0.01, 0.02, 0.04, 0,    0,    0],\n",
    "              [0,    0.94, 0,    0,    0.02, 0.04, 0],\n",
    "              [0,0,0.95,0,0.01,0, 0.04],\n",
    "              [0,0,0,0.97,0,0.01,0.02],\n",
    "              [1,0,0,0,0,0,0,],\n",
    "              [1,0,0,0,0,0,0],\n",
    "              [1,0,0,0,0,0,0]])\n",
    "P2 = P@P\n",
    "np.sum(P2[0][0:4])\n",
    "stac_rozdeleni(P) * 1800\n"
   ]
  },
  {
   "cell_type": "code",
   "execution_count": 40,
   "metadata": {},
   "outputs": [
    {
     "name": "stdout",
     "output_type": "stream",
     "text": [
      "pi = [[0 0 0 0 1]\n",
      " [1 0 0 0 0]]\n"
     ]
    },
    {
     "data": {
      "text/plain": [
       "array([[1, 0, 0, 0, 0],\n",
       "       [57/65, 0, 0, 0, 8/65],\n",
       "       [9/13, 0, 0, 0, 4/13],\n",
       "       [27/65, 0, 0, 0, 38/65],\n",
       "       [0, 0, 0, 0, 1]])"
      ]
     },
     "execution_count": 40,
     "metadata": {},
     "output_type": "execute_result"
    }
   ],
   "source": [
    "P = np.array([[1,0,0,0,0],[0.6,0,0.4,0,0],[0,0.6,0,0.4,0],[0,0,0.6,0,0.4],[0,0,0,0,1]])\n",
    "stac_rozdeleni(P)\n",
    "P@P@P@P@P@P@P@P@P@P@P@P@P@P@P@P@P@P@P@P@P@P@P@P@P@P@P@P@P@P@P@P@P@P@P@P@P@P@P@P@P@P@P@P@P@P@P@P@P@P@P@P@P@P@P@P@P@P@P@P@P@P@P@P@P@P@P@P@P@P@P@P@P@P@P"
   ]
  },
  {
   "cell_type": "code",
   "execution_count": 52,
   "metadata": {},
   "outputs": [
    {
     "data": {
      "text/plain": [
       "array([33/13, 50/13, 43/13])"
      ]
     },
     "execution_count": 52,
     "metadata": {},
     "output_type": "execute_result"
    }
   ],
   "source": [
    "T = np.array([[0,0.4, 0], [0.6,0,0.4], [0, 0.6, 0]])\n",
    "N = la.inv((np.eye(T.shape[0]) - T))\n",
    "N @ np.array([1,1,1])"
   ]
  },
  {
   "cell_type": "code",
   "execution_count": 55,
   "metadata": {},
   "outputs": [
    {
     "data": {
      "text/plain": [
       "array([[57/65, 8/65],\n",
       "       [9/13, 4/13],\n",
       "       [27/65, 38/65]])"
      ]
     },
     "execution_count": 55,
     "metadata": {},
     "output_type": "execute_result"
    }
   ],
   "source": [
    "R = np.array([[0.6, 0], [0, 0], [0, 0.4]])\n",
    "U = N@R\n",
    "U"
   ]
  },
  {
   "cell_type": "code",
   "execution_count": 82,
   "metadata": {},
   "outputs": [
    {
     "data": {
      "text/plain": [
       "array([[-2/3, 2/3, 0],\n",
       "       [2/7, -13/21, 1/3],\n",
       "       [0, 4/7, -4/7]])"
      ]
     },
     "execution_count": 82,
     "metadata": {},
     "output_type": "execute_result"
    }
   ],
   "source": [
    "Q = np.array([[-2*1/3, 2*1/3, 0], [2/7, -1/3-2/7, 1/3], [0, 2*2/7, -2*2/7]])\n",
    "pi = la.null_space(Q.T)\n",
    "pi = np.transpose(pi/sum(pi)) # normalizace\n",
    "pi\n",
    "np.eye(3)+2/3*Q\n",
    "Q"
   ]
  },
  {
   "cell_type": "code",
   "execution_count": 81,
   "metadata": {},
   "outputs": [
    {
     "data": {
      "text/plain": [
       "array([[1, 0, 0],\n",
       "       [0, 1, 0],\n",
       "       [0, 0, 1]])"
      ]
     },
     "execution_count": 81,
     "metadata": {},
     "output_type": "execute_result"
    }
   ],
   "source": []
  },
  {
   "cell_type": "code",
   "execution_count": 83,
   "metadata": {},
   "outputs": [
    {
     "data": {
      "text/plain": [
       "array([[2, 0, 0],\n",
       "       [0, -1/9, 0]])"
      ]
     },
     "execution_count": 83,
     "metadata": {},
     "output_type": "execute_result"
    }
   ],
   "source": [
    "np.array([[2,0],[0,-1/9],[0,0]]).T"
   ]
  },
  {
   "cell_type": "code",
   "execution_count": 85,
   "metadata": {},
   "outputs": [
    {
     "data": {
      "text/plain": [
       "99"
      ]
     },
     "execution_count": 85,
     "metadata": {},
     "output_type": "execute_result"
    }
   ],
   "source": [
    "Xn = 6+16+12+5+18+5+6+7+15\n",
    "5+18+15+4+20+3+7+11+16"
   ]
  },
  {
   "cell_type": "code",
   "execution_count": null,
   "metadata": {},
   "outputs": [],
   "source": []
  }
 ],
 "metadata": {
  "interpreter": {
   "hash": "b0fa6594d8f4cbf19f97940f81e996739fb7646882a419484c72d19e05852a7e"
  },
  "kernelspec": {
   "display_name": "Python 3.9.12 64-bit",
   "language": "python",
   "name": "python3"
  },
  "language_info": {
   "codemirror_mode": {
    "name": "ipython",
    "version": 3
   },
   "file_extension": ".py",
   "mimetype": "text/x-python",
   "name": "python",
   "nbconvert_exporter": "python",
   "pygments_lexer": "ipython3",
   "version": "3.9.12"
  },
  "orig_nbformat": 4
 },
 "nbformat": 4,
 "nbformat_minor": 2
}
